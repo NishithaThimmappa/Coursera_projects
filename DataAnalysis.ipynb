{
  "cells": [
    {
      "cell_type": "markdown",
      "metadata": {
        "id": "view-in-github",
        "colab_type": "text"
      },
      "source": [
        "<a href=\"https://colab.research.google.com/github/NishithaThimmappa/Coursera_projects/blob/main/DataAnalysis.ipynb\" target=\"_parent\"><img src=\"https://colab.research.google.com/assets/colab-badge.svg\" alt=\"Open In Colab\"/></a>"
      ]
    },
    {
      "cell_type": "code",
      "execution_count": null,
      "metadata": {
        "id": "3qTjhzS8Zqdj"
      },
      "outputs": [],
      "source": [
        ""
      ]
    },
    {
      "cell_type": "markdown",
      "metadata": {
        "id": "8QytGR1Wco_o"
      },
      "source": [
        "**Objective:** \n",
        "\n",
        "Classfication Problem- Classify whether the given cell is a malignant or benign.\n",
        "\n",
        "\n",
        "\n",
        "*   1= Malignant (Cancerous) - Present\n",
        "*   0= Benign (Not Cancerous) -Absent\n",
        "\n"
      ]
    },
    {
      "cell_type": "markdown",
      "metadata": {
        "id": "wo9JlbwPag8z"
      },
      "source": [
        "**Dataset:**    \n",
        "Taken from [UC Berkeley repository](https://archive.ics.uci.edu/ml/datasets/Breast+Cancer+Wisconsin+%28Diagnostic%29). The dataset has data on a total sample of 569 benign and malignant tumor cells"
      ]
    },
    {
      "cell_type": "code",
      "execution_count": 1,
      "metadata": {
        "id": "Unp18ce9bN50"
      },
      "outputs": [],
      "source": [
        "import numpy as np\n",
        "import pandas as pd\n",
        "import seaborn as sns\n",
        "import matplotlib.pyplot as plt"
      ]
    },
    {
      "cell_type": "code",
      "execution_count": 2,
      "metadata": {
        "id": "ypoIEKC8bVmw",
        "colab": {
          "base_uri": "https://localhost:8080/",
          "height": 311
        },
        "outputId": "a9fe4c41-aa2e-4a47-d870-215e4b5bb05a"
      },
      "outputs": [
        {
          "output_type": "error",
          "ename": "FileNotFoundError",
          "evalue": "ignored",
          "traceback": [
            "\u001b[0;31m---------------------------------------------------------------------------\u001b[0m",
            "\u001b[0;31mFileNotFoundError\u001b[0m                         Traceback (most recent call last)",
            "\u001b[0;32m<ipython-input-2-dae7fc333d58>\u001b[0m in \u001b[0;36m<module>\u001b[0;34m()\u001b[0m\n\u001b[0;32m----> 1\u001b[0;31m \u001b[0mdata\u001b[0m\u001b[0;34m=\u001b[0m\u001b[0mpd\u001b[0m\u001b[0;34m.\u001b[0m\u001b[0mread_csv\u001b[0m\u001b[0;34m(\u001b[0m\u001b[0;34m'/content/data.csv'\u001b[0m\u001b[0;34m,\u001b[0m \u001b[0mindex_col\u001b[0m\u001b[0;34m=\u001b[0m\u001b[0;32mFalse\u001b[0m\u001b[0;34m)\u001b[0m\u001b[0;34m\u001b[0m\u001b[0;34m\u001b[0m\u001b[0m\n\u001b[0m",
            "\u001b[0;32m/usr/local/lib/python3.7/dist-packages/pandas/util/_decorators.py\u001b[0m in \u001b[0;36mwrapper\u001b[0;34m(*args, **kwargs)\u001b[0m\n\u001b[1;32m    309\u001b[0m                     \u001b[0mstacklevel\u001b[0m\u001b[0;34m=\u001b[0m\u001b[0mstacklevel\u001b[0m\u001b[0;34m,\u001b[0m\u001b[0;34m\u001b[0m\u001b[0;34m\u001b[0m\u001b[0m\n\u001b[1;32m    310\u001b[0m                 )\n\u001b[0;32m--> 311\u001b[0;31m             \u001b[0;32mreturn\u001b[0m \u001b[0mfunc\u001b[0m\u001b[0;34m(\u001b[0m\u001b[0;34m*\u001b[0m\u001b[0margs\u001b[0m\u001b[0;34m,\u001b[0m \u001b[0;34m**\u001b[0m\u001b[0mkwargs\u001b[0m\u001b[0;34m)\u001b[0m\u001b[0;34m\u001b[0m\u001b[0;34m\u001b[0m\u001b[0m\n\u001b[0m\u001b[1;32m    312\u001b[0m \u001b[0;34m\u001b[0m\u001b[0m\n\u001b[1;32m    313\u001b[0m         \u001b[0;32mreturn\u001b[0m \u001b[0mwrapper\u001b[0m\u001b[0;34m\u001b[0m\u001b[0;34m\u001b[0m\u001b[0m\n",
            "\u001b[0;32m/usr/local/lib/python3.7/dist-packages/pandas/io/parsers/readers.py\u001b[0m in \u001b[0;36mread_csv\u001b[0;34m(filepath_or_buffer, sep, delimiter, header, names, index_col, usecols, squeeze, prefix, mangle_dupe_cols, dtype, engine, converters, true_values, false_values, skipinitialspace, skiprows, skipfooter, nrows, na_values, keep_default_na, na_filter, verbose, skip_blank_lines, parse_dates, infer_datetime_format, keep_date_col, date_parser, dayfirst, cache_dates, iterator, chunksize, compression, thousands, decimal, lineterminator, quotechar, quoting, doublequote, escapechar, comment, encoding, encoding_errors, dialect, error_bad_lines, warn_bad_lines, on_bad_lines, delim_whitespace, low_memory, memory_map, float_precision, storage_options)\u001b[0m\n\u001b[1;32m    584\u001b[0m     \u001b[0mkwds\u001b[0m\u001b[0;34m.\u001b[0m\u001b[0mupdate\u001b[0m\u001b[0;34m(\u001b[0m\u001b[0mkwds_defaults\u001b[0m\u001b[0;34m)\u001b[0m\u001b[0;34m\u001b[0m\u001b[0;34m\u001b[0m\u001b[0m\n\u001b[1;32m    585\u001b[0m \u001b[0;34m\u001b[0m\u001b[0m\n\u001b[0;32m--> 586\u001b[0;31m     \u001b[0;32mreturn\u001b[0m \u001b[0m_read\u001b[0m\u001b[0;34m(\u001b[0m\u001b[0mfilepath_or_buffer\u001b[0m\u001b[0;34m,\u001b[0m \u001b[0mkwds\u001b[0m\u001b[0;34m)\u001b[0m\u001b[0;34m\u001b[0m\u001b[0;34m\u001b[0m\u001b[0m\n\u001b[0m\u001b[1;32m    587\u001b[0m \u001b[0;34m\u001b[0m\u001b[0m\n\u001b[1;32m    588\u001b[0m \u001b[0;34m\u001b[0m\u001b[0m\n",
            "\u001b[0;32m/usr/local/lib/python3.7/dist-packages/pandas/io/parsers/readers.py\u001b[0m in \u001b[0;36m_read\u001b[0;34m(filepath_or_buffer, kwds)\u001b[0m\n\u001b[1;32m    480\u001b[0m \u001b[0;34m\u001b[0m\u001b[0m\n\u001b[1;32m    481\u001b[0m     \u001b[0;31m# Create the parser.\u001b[0m\u001b[0;34m\u001b[0m\u001b[0;34m\u001b[0m\u001b[0;34m\u001b[0m\u001b[0m\n\u001b[0;32m--> 482\u001b[0;31m     \u001b[0mparser\u001b[0m \u001b[0;34m=\u001b[0m \u001b[0mTextFileReader\u001b[0m\u001b[0;34m(\u001b[0m\u001b[0mfilepath_or_buffer\u001b[0m\u001b[0;34m,\u001b[0m \u001b[0;34m**\u001b[0m\u001b[0mkwds\u001b[0m\u001b[0;34m)\u001b[0m\u001b[0;34m\u001b[0m\u001b[0;34m\u001b[0m\u001b[0m\n\u001b[0m\u001b[1;32m    483\u001b[0m \u001b[0;34m\u001b[0m\u001b[0m\n\u001b[1;32m    484\u001b[0m     \u001b[0;32mif\u001b[0m \u001b[0mchunksize\u001b[0m \u001b[0;32mor\u001b[0m \u001b[0miterator\u001b[0m\u001b[0;34m:\u001b[0m\u001b[0;34m\u001b[0m\u001b[0;34m\u001b[0m\u001b[0m\n",
            "\u001b[0;32m/usr/local/lib/python3.7/dist-packages/pandas/io/parsers/readers.py\u001b[0m in \u001b[0;36m__init__\u001b[0;34m(self, f, engine, **kwds)\u001b[0m\n\u001b[1;32m    809\u001b[0m             \u001b[0mself\u001b[0m\u001b[0;34m.\u001b[0m\u001b[0moptions\u001b[0m\u001b[0;34m[\u001b[0m\u001b[0;34m\"has_index_names\"\u001b[0m\u001b[0;34m]\u001b[0m \u001b[0;34m=\u001b[0m \u001b[0mkwds\u001b[0m\u001b[0;34m[\u001b[0m\u001b[0;34m\"has_index_names\"\u001b[0m\u001b[0;34m]\u001b[0m\u001b[0;34m\u001b[0m\u001b[0;34m\u001b[0m\u001b[0m\n\u001b[1;32m    810\u001b[0m \u001b[0;34m\u001b[0m\u001b[0m\n\u001b[0;32m--> 811\u001b[0;31m         \u001b[0mself\u001b[0m\u001b[0;34m.\u001b[0m\u001b[0m_engine\u001b[0m \u001b[0;34m=\u001b[0m \u001b[0mself\u001b[0m\u001b[0;34m.\u001b[0m\u001b[0m_make_engine\u001b[0m\u001b[0;34m(\u001b[0m\u001b[0mself\u001b[0m\u001b[0;34m.\u001b[0m\u001b[0mengine\u001b[0m\u001b[0;34m)\u001b[0m\u001b[0;34m\u001b[0m\u001b[0;34m\u001b[0m\u001b[0m\n\u001b[0m\u001b[1;32m    812\u001b[0m \u001b[0;34m\u001b[0m\u001b[0m\n\u001b[1;32m    813\u001b[0m     \u001b[0;32mdef\u001b[0m \u001b[0mclose\u001b[0m\u001b[0;34m(\u001b[0m\u001b[0mself\u001b[0m\u001b[0;34m)\u001b[0m\u001b[0;34m:\u001b[0m\u001b[0;34m\u001b[0m\u001b[0;34m\u001b[0m\u001b[0m\n",
            "\u001b[0;32m/usr/local/lib/python3.7/dist-packages/pandas/io/parsers/readers.py\u001b[0m in \u001b[0;36m_make_engine\u001b[0;34m(self, engine)\u001b[0m\n\u001b[1;32m   1038\u001b[0m             )\n\u001b[1;32m   1039\u001b[0m         \u001b[0;31m# error: Too many arguments for \"ParserBase\"\u001b[0m\u001b[0;34m\u001b[0m\u001b[0;34m\u001b[0m\u001b[0;34m\u001b[0m\u001b[0m\n\u001b[0;32m-> 1040\u001b[0;31m         \u001b[0;32mreturn\u001b[0m \u001b[0mmapping\u001b[0m\u001b[0;34m[\u001b[0m\u001b[0mengine\u001b[0m\u001b[0;34m]\u001b[0m\u001b[0;34m(\u001b[0m\u001b[0mself\u001b[0m\u001b[0;34m.\u001b[0m\u001b[0mf\u001b[0m\u001b[0;34m,\u001b[0m \u001b[0;34m**\u001b[0m\u001b[0mself\u001b[0m\u001b[0;34m.\u001b[0m\u001b[0moptions\u001b[0m\u001b[0;34m)\u001b[0m  \u001b[0;31m# type: ignore[call-arg]\u001b[0m\u001b[0;34m\u001b[0m\u001b[0;34m\u001b[0m\u001b[0m\n\u001b[0m\u001b[1;32m   1041\u001b[0m \u001b[0;34m\u001b[0m\u001b[0m\n\u001b[1;32m   1042\u001b[0m     \u001b[0;32mdef\u001b[0m \u001b[0m_failover_to_python\u001b[0m\u001b[0;34m(\u001b[0m\u001b[0mself\u001b[0m\u001b[0;34m)\u001b[0m\u001b[0;34m:\u001b[0m\u001b[0;34m\u001b[0m\u001b[0;34m\u001b[0m\u001b[0m\n",
            "\u001b[0;32m/usr/local/lib/python3.7/dist-packages/pandas/io/parsers/c_parser_wrapper.py\u001b[0m in \u001b[0;36m__init__\u001b[0;34m(self, src, **kwds)\u001b[0m\n\u001b[1;32m     49\u001b[0m \u001b[0;34m\u001b[0m\u001b[0m\n\u001b[1;32m     50\u001b[0m         \u001b[0;31m# open handles\u001b[0m\u001b[0;34m\u001b[0m\u001b[0;34m\u001b[0m\u001b[0;34m\u001b[0m\u001b[0m\n\u001b[0;32m---> 51\u001b[0;31m         \u001b[0mself\u001b[0m\u001b[0;34m.\u001b[0m\u001b[0m_open_handles\u001b[0m\u001b[0;34m(\u001b[0m\u001b[0msrc\u001b[0m\u001b[0;34m,\u001b[0m \u001b[0mkwds\u001b[0m\u001b[0;34m)\u001b[0m\u001b[0;34m\u001b[0m\u001b[0;34m\u001b[0m\u001b[0m\n\u001b[0m\u001b[1;32m     52\u001b[0m         \u001b[0;32massert\u001b[0m \u001b[0mself\u001b[0m\u001b[0;34m.\u001b[0m\u001b[0mhandles\u001b[0m \u001b[0;32mis\u001b[0m \u001b[0;32mnot\u001b[0m \u001b[0;32mNone\u001b[0m\u001b[0;34m\u001b[0m\u001b[0;34m\u001b[0m\u001b[0m\n\u001b[1;32m     53\u001b[0m \u001b[0;34m\u001b[0m\u001b[0m\n",
            "\u001b[0;32m/usr/local/lib/python3.7/dist-packages/pandas/io/parsers/base_parser.py\u001b[0m in \u001b[0;36m_open_handles\u001b[0;34m(self, src, kwds)\u001b[0m\n\u001b[1;32m    227\u001b[0m             \u001b[0mmemory_map\u001b[0m\u001b[0;34m=\u001b[0m\u001b[0mkwds\u001b[0m\u001b[0;34m.\u001b[0m\u001b[0mget\u001b[0m\u001b[0;34m(\u001b[0m\u001b[0;34m\"memory_map\"\u001b[0m\u001b[0;34m,\u001b[0m \u001b[0;32mFalse\u001b[0m\u001b[0;34m)\u001b[0m\u001b[0;34m,\u001b[0m\u001b[0;34m\u001b[0m\u001b[0;34m\u001b[0m\u001b[0m\n\u001b[1;32m    228\u001b[0m             \u001b[0mstorage_options\u001b[0m\u001b[0;34m=\u001b[0m\u001b[0mkwds\u001b[0m\u001b[0;34m.\u001b[0m\u001b[0mget\u001b[0m\u001b[0;34m(\u001b[0m\u001b[0;34m\"storage_options\"\u001b[0m\u001b[0;34m,\u001b[0m \u001b[0;32mNone\u001b[0m\u001b[0;34m)\u001b[0m\u001b[0;34m,\u001b[0m\u001b[0;34m\u001b[0m\u001b[0;34m\u001b[0m\u001b[0m\n\u001b[0;32m--> 229\u001b[0;31m             \u001b[0merrors\u001b[0m\u001b[0;34m=\u001b[0m\u001b[0mkwds\u001b[0m\u001b[0;34m.\u001b[0m\u001b[0mget\u001b[0m\u001b[0;34m(\u001b[0m\u001b[0;34m\"encoding_errors\"\u001b[0m\u001b[0;34m,\u001b[0m \u001b[0;34m\"strict\"\u001b[0m\u001b[0;34m)\u001b[0m\u001b[0;34m,\u001b[0m\u001b[0;34m\u001b[0m\u001b[0;34m\u001b[0m\u001b[0m\n\u001b[0m\u001b[1;32m    230\u001b[0m         )\n\u001b[1;32m    231\u001b[0m \u001b[0;34m\u001b[0m\u001b[0m\n",
            "\u001b[0;32m/usr/local/lib/python3.7/dist-packages/pandas/io/common.py\u001b[0m in \u001b[0;36mget_handle\u001b[0;34m(path_or_buf, mode, encoding, compression, memory_map, is_text, errors, storage_options)\u001b[0m\n\u001b[1;32m    705\u001b[0m                 \u001b[0mencoding\u001b[0m\u001b[0;34m=\u001b[0m\u001b[0mioargs\u001b[0m\u001b[0;34m.\u001b[0m\u001b[0mencoding\u001b[0m\u001b[0;34m,\u001b[0m\u001b[0;34m\u001b[0m\u001b[0;34m\u001b[0m\u001b[0m\n\u001b[1;32m    706\u001b[0m                 \u001b[0merrors\u001b[0m\u001b[0;34m=\u001b[0m\u001b[0merrors\u001b[0m\u001b[0;34m,\u001b[0m\u001b[0;34m\u001b[0m\u001b[0;34m\u001b[0m\u001b[0m\n\u001b[0;32m--> 707\u001b[0;31m                 \u001b[0mnewline\u001b[0m\u001b[0;34m=\u001b[0m\u001b[0;34m\"\"\u001b[0m\u001b[0;34m,\u001b[0m\u001b[0;34m\u001b[0m\u001b[0;34m\u001b[0m\u001b[0m\n\u001b[0m\u001b[1;32m    708\u001b[0m             )\n\u001b[1;32m    709\u001b[0m         \u001b[0;32melse\u001b[0m\u001b[0;34m:\u001b[0m\u001b[0;34m\u001b[0m\u001b[0;34m\u001b[0m\u001b[0m\n",
            "\u001b[0;31mFileNotFoundError\u001b[0m: [Errno 2] No such file or directory: '/content/data.csv'"
          ]
        }
      ],
      "source": [
        "data=pd.read_csv('/content/data.csv', index_col=False)"
      ]
    },
    {
      "cell_type": "code",
      "execution_count": null,
      "metadata": {
        "id": "d5OuQAI5be2y"
      },
      "outputs": [],
      "source": [
        "data.T.head(31)"
      ]
    },
    {
      "cell_type": "markdown",
      "metadata": {
        "id": "yeTs-6gubkNN"
      },
      "source": [
        "\n",
        "*    The column **id** gives the Unique ID number of the sample\n",
        "*   The column **diagnosis** tells if it's M=Malignant or B=Benign\n",
        "*   The rest of the 30 columns have information on the features of the cell nuclei computed from digitized images of a fine needle aspirate (FNA) of a breast mass.\n",
        "\n",
        "\n",
        "\n",
        "\n",
        "\n",
        "\n"
      ]
    },
    {
      "cell_type": "markdown",
      "metadata": {
        "id": "W86AQKiuqxyo"
      },
      "source": [
        "## Data Cleaning and Wrangling"
      ]
    },
    {
      "cell_type": "code",
      "execution_count": null,
      "metadata": {
        "id": "WqGkCXXHbiuT"
      },
      "outputs": [],
      "source": [
        "data.shape"
      ]
    },
    {
      "cell_type": "code",
      "execution_count": null,
      "metadata": {
        "id": "SKE-hoyPeIwA"
      },
      "outputs": [],
      "source": [
        "data.drop('id',axis=1, inplace=True)"
      ]
    },
    {
      "cell_type": "code",
      "execution_count": null,
      "metadata": {
        "id": "KtAMzSUTe1Sg"
      },
      "outputs": [],
      "source": [
        "data.shape"
      ]
    },
    {
      "cell_type": "code",
      "execution_count": null,
      "metadata": {
        "id": "nlVz6jxTeS6v"
      },
      "outputs": [],
      "source": [
        "data.info()"
      ]
    },
    {
      "cell_type": "code",
      "execution_count": null,
      "metadata": {
        "id": "9Q_AqNRsg7Wk"
      },
      "outputs": [],
      "source": [
        "sum(data.duplicated())"
      ]
    },
    {
      "cell_type": "code",
      "execution_count": null,
      "metadata": {
        "id": "QyMSOMj-eZou"
      },
      "outputs": [],
      "source": [
        "data.dtypes.value_counts()"
      ]
    },
    {
      "cell_type": "code",
      "execution_count": null,
      "metadata": {
        "id": "NDotTJ20efSW"
      },
      "outputs": [],
      "source": [
        "data.isnull().any()"
      ]
    },
    {
      "cell_type": "code",
      "execution_count": null,
      "metadata": {
        "id": "EAHXacShe7jN"
      },
      "outputs": [],
      "source": [
        "data.diagnosis.unique()"
      ]
    },
    {
      "cell_type": "code",
      "execution_count": null,
      "metadata": {
        "id": "1BKz83CLfCse"
      },
      "outputs": [],
      "source": [
        "data.to_csv('/content/clean_data.csv')"
      ]
    },
    {
      "cell_type": "markdown",
      "metadata": {
        "id": "AYM0NU2qhHSG"
      },
      "source": [
        "# Exploratory Data Analysis"
      ]
    },
    {
      "cell_type": "markdown",
      "metadata": {
        "id": "-L_Oen3jhaP0"
      },
      "source": [
        "### Basic Descriptive Statistics"
      ]
    },
    {
      "cell_type": "code",
      "execution_count": null,
      "metadata": {
        "id": "gzzdI6k0iDFN"
      },
      "outputs": [],
      "source": [
        "data = pd.read_csv('/content/clean_data.csv', index_col=False)\n",
        "data.drop('Unnamed: 0',axis=1, inplace=True)"
      ]
    },
    {
      "cell_type": "code",
      "execution_count": null,
      "metadata": {
        "id": "2DsLSTGchZnk"
      },
      "outputs": [],
      "source": [
        "data.describe()"
      ]
    },
    {
      "cell_type": "markdown",
      "metadata": {
        "id": "Z9f_kdQ6inmh"
      },
      "source": [
        "**Skewness** is the measure of symmetry or asymmetry in the distribution of data.\n",
        "It is either positive(right) or negative(left).         \n",
        "Values closer to zero means less skew.\n"
      ]
    },
    {
      "cell_type": "code",
      "execution_count": null,
      "metadata": {
        "id": "K6FhzVDzfqLl"
      },
      "outputs": [],
      "source": [
        "data.skew()"
      ]
    },
    {
      "cell_type": "code",
      "execution_count": null,
      "metadata": {
        "id": "NyKJpJfWiwmY"
      },
      "outputs": [],
      "source": [
        "no_of_obs=data.groupby('diagnosis', axis=0)\n",
        "pd.DataFrame(no_of_obs.size(), columns=['Number of observations'])"
      ]
    },
    {
      "cell_type": "code",
      "execution_count": null,
      "metadata": {
        "id": "HF6v0wz-B8On"
      },
      "outputs": [],
      "source": [
        "data.columns"
      ]
    },
    {
      "cell_type": "markdown",
      "metadata": {
        "id": "O77ji2xBrObF"
      },
      "source": [
        "### Data Visualizations"
      ]
    },
    {
      "cell_type": "markdown",
      "metadata": {
        "id": "0mZqj5GYrc-y"
      },
      "source": [
        "#### Unimodal Analysis"
      ]
    },
    {
      "cell_type": "code",
      "execution_count": null,
      "metadata": {
        "id": "dzDY6xpcrZ8s"
      },
      "outputs": [],
      "source": [
        "sns.countplot(data['diagnosis'], label='count')"
      ]
    },
    {
      "cell_type": "markdown",
      "metadata": {
        "id": "4TJJj-thPvm6"
      },
      "source": [
        "##### Separating features into smaller groups for easy analysis\n",
        "\n",
        "1.   **_mean suffix features**\n",
        "\n",
        "*   Histogram\n",
        "*   Density Plot\n",
        "*   Boxplot             \n",
        "\n",
        "\n",
        "2.  **_se suffix features**\n",
        "*   Histogram\n",
        "*   Density Plot\n",
        "*   Boxplot          \n",
        "\n",
        "\n",
        "3. **_worst suffix features**\n",
        "*   Histogram\n",
        "*   Density Plot\n",
        "*   Boxplot     \n",
        "\n"
      ]
    },
    {
      "cell_type": "code",
      "execution_count": null,
      "metadata": {
        "id": "M7oizk5zPn1t"
      },
      "outputs": [],
      "source": [
        "def extract_column(word):\n",
        "  column_mean = [col for col in data.columns if col.endswith(word)]\n",
        "  return column_mean\n",
        "\n",
        "def unimodal_analysis_hist(word):\n",
        "  column_mean=extract_column(word)\n",
        "  hist=data.hist(column=column_mean,bins=10,figsize=(20, 15))\n",
        "\n",
        "def unimodal_analysis_density_plot(word):\n",
        "  column_mean=extract_column(word)\n",
        "  plt = data[column_mean].plot(kind= 'density', subplots=True, layout=(4,3), sharex=False, \n",
        "                     sharey=False,fontsize=12, figsize=(15,10))\n",
        "  \n",
        "def unimodal_analysis_boxplot(word):\n",
        "  column_mean=extract_column(word)\n",
        "  plt=data[column_mean].plot(kind= 'box' , subplots=True, layout=(4,3), sharex=False, sharey=False,fontsize=12,figsize=(15,10))\n"
      ]
    },
    {
      "cell_type": "code",
      "execution_count": null,
      "metadata": {
        "id": "dbjuQ9FtiQ-l"
      },
      "outputs": [],
      "source": [
        "unimodal_analysis_hist('_mean')"
      ]
    },
    {
      "cell_type": "code",
      "execution_count": null,
      "metadata": {
        "id": "s2w8NJFVW09u"
      },
      "outputs": [],
      "source": [
        "unimodal_analysis_density_plot('_mean')"
      ]
    },
    {
      "cell_type": "markdown",
      "metadata": {
        "id": "OkCCtEBJd1SB"
      },
      "source": [
        "Perimeter, Radius, area , concavity and compactness has Exponential Distribution"
      ]
    },
    {
      "cell_type": "code",
      "execution_count": null,
      "metadata": {
        "id": "07fYTpghX1GB"
      },
      "outputs": [],
      "source": [
        "unimodal_analysis_boxplot('_mean')"
      ]
    },
    {
      "cell_type": "code",
      "execution_count": null,
      "metadata": {
        "id": "GjaQyCzXCbDf"
      },
      "outputs": [],
      "source": [
        "unimodal_analysis_hist('_se')"
      ]
    },
    {
      "cell_type": "code",
      "execution_count": null,
      "metadata": {
        "id": "0mrmrLw-XOMB"
      },
      "outputs": [],
      "source": [
        "unimodal_analysis_density_plot(\"_se\")"
      ]
    },
    {
      "cell_type": "code",
      "execution_count": null,
      "metadata": {
        "id": "9udCmv3KYFwg"
      },
      "outputs": [],
      "source": [
        "unimodal_analysis_boxplot('_se')"
      ]
    },
    {
      "cell_type": "code",
      "execution_count": null,
      "metadata": {
        "id": "HtSRWmDBCmu4"
      },
      "outputs": [],
      "source": [
        "unimodal_analysis_hist('_worst')"
      ]
    },
    {
      "cell_type": "code",
      "execution_count": null,
      "metadata": {
        "id": "RHIsxE_ZXR6n"
      },
      "outputs": [],
      "source": [
        "unimodal_analysis_density_plot('_worst')"
      ]
    },
    {
      "cell_type": "code",
      "execution_count": null,
      "metadata": {
        "id": "dJ4RjDyzYL0u"
      },
      "outputs": [],
      "source": [
        "unimodal_analysis_boxplot('_worst')"
      ]
    },
    {
      "cell_type": "code",
      "execution_count": null,
      "metadata": {
        "id": "zmsqu0eMBORW"
      },
      "outputs": [],
      "source": [
        "def kdeplot_feature(word):\n",
        "  column_mean=extract_column(word)\n",
        "  for i in range(len(column_mean)):\n",
        "      sns.FacetGrid(data,hue=\"diagnosis\",aspect=4,margin_titles=True).map(sns.kdeplot,column_mean[i],shade= True).add_legend()"
      ]
    },
    {
      "cell_type": "code",
      "execution_count": null,
      "metadata": {
        "id": "paZYIKnnVrWS"
      },
      "outputs": [],
      "source": [
        "kdeplot_feature('_mean')"
      ]
    },
    {
      "cell_type": "code",
      "execution_count": null,
      "metadata": {
        "id": "ykOQAwF3Vvzv"
      },
      "outputs": [],
      "source": [
        "kdeplot_feature('_se')"
      ]
    },
    {
      "cell_type": "code",
      "execution_count": null,
      "metadata": {
        "id": "zoCkFCXMrKxs"
      },
      "outputs": [],
      "source": [
        "kdeplot_feature('_worst')"
      ]
    },
    {
      "cell_type": "code",
      "execution_count": null,
      "metadata": {
        "id": "aYbVEepwGBbc"
      },
      "outputs": [],
      "source": [
        "def multimodal_analysis_corr(word):\n",
        "  column_mean=extract_column(word)\n",
        "  corr=data[column_mean].corr()\n",
        "  mask=np.zeros_like(corr, dtype=np.bool)\n",
        "  mask[np.triu_indices_from(mask)]=True\n",
        "\n",
        "  df, ax=plt.subplots(figsize=(8,8))\n",
        "  plt.title('Breast Cancer Feature Correlation')\n",
        "\n",
        "  sns.heatmap(corr, vmax=1.2, square='square', mask=mask, ax=ax, annot=True, fmt='.2g', linewidth=2)"
      ]
    },
    {
      "cell_type": "code",
      "execution_count": null,
      "metadata": {
        "id": "u2dPWxOpPZPB"
      },
      "outputs": [],
      "source": [
        "multimodal_analysis_corr('_mean')"
      ]
    },
    {
      "cell_type": "code",
      "execution_count": null,
      "metadata": {
        "id": "sgz8WU61WRIu"
      },
      "outputs": [],
      "source": [
        "multimodal_analysis_corr('_se')"
      ]
    },
    {
      "cell_type": "code",
      "execution_count": null,
      "metadata": {
        "id": "a44K831zWWKr"
      },
      "outputs": [],
      "source": [
        "multimodal_analysis_corr('_worst')"
      ]
    },
    {
      "cell_type": "code",
      "execution_count": null,
      "metadata": {
        "id": "SU8WDIcjETni"
      },
      "outputs": [],
      "source": [
        "f,ax = plt.subplots(figsize=(18, 18))\n",
        "corr=data.corr()\n",
        "mask=np.zeros_like(corr, dtype=np.bool)\n",
        "mask[np.triu_indices_from(mask)]=True\n",
        "cmap = sns.diverging_palette( 240 , 10 , as_cmap = True )\n",
        "sns.heatmap(corr,annot=True, linewidths=.5, fmt= '.1f',ax=ax, mask=mask, cmap=cmap)\n",
        "plt.xticks(fontsize=11,rotation=70)\n",
        "plt.show()"
      ]
    },
    {
      "cell_type": "code",
      "execution_count": null,
      "metadata": {
        "id": "AP8biG9uF7gN"
      },
      "outputs": [],
      "source": [
        "def multimodal_analysis_scatter(word):\n",
        "  column_mean=extract_column(word)\n",
        "  cols=column_mean+['diagnosis']\n",
        "  sns_plot = sns.pairplot(data=data[cols],hue='diagnosis')"
      ]
    },
    {
      "cell_type": "code",
      "execution_count": null,
      "metadata": {
        "id": "8vesBci_Rjgx"
      },
      "outputs": [],
      "source": [
        "multimodal_analysis_scatter('_mean')"
      ]
    },
    {
      "cell_type": "code",
      "execution_count": null,
      "metadata": {
        "id": "4fdjzcE9RnYq"
      },
      "outputs": [],
      "source": [
        "multimodal_analysis_scatter('_se')"
      ]
    },
    {
      "cell_type": "code",
      "execution_count": null,
      "metadata": {
        "id": "nIEFhNcvRr0a"
      },
      "outputs": [],
      "source": [
        "multimodal_analysis_scatter('_worst')"
      ]
    },
    {
      "cell_type": "code",
      "execution_count": null,
      "metadata": {
        "id": "8f_4evQMRtww"
      },
      "outputs": [],
      "source": [
        "fig = plt.figure(figsize=(12,12))\n",
        "def plot(a,b,k):\n",
        "    plt.subplot(k)\n",
        "    sns.scatterplot(x = data[a], y = data[b], hue = \"diagnosis\",data = data)\n",
        "    plt.title(a + ' vs ' + b,fontsize=15)\n",
        "    \n",
        "plot('perimeter_mean','radius_worst',221)   \n",
        "plot('area_mean','radius_worst',222)   \n",
        "plot('texture_mean','texture_worst',223)   \n",
        "plot('area_worst','radius_worst',224)   "
      ]
    },
    {
      "cell_type": "code",
      "execution_count": null,
      "metadata": {
        "id": "z0P3x6fboTbX"
      },
      "outputs": [],
      "source": [
        "fig = plt.figure(figsize=(12,12))\n",
        "plot('smoothness_mean','texture_mean',221)\n",
        "plot('radius_mean','fractal_dimension_worst',222)\n",
        "plot('texture_mean','symmetry_mean',223)\n",
        "plot('texture_mean','symmetry_se',224)"
      ]
    },
    {
      "cell_type": "code",
      "execution_count": null,
      "metadata": {
        "id": "PGEUogfKo-0I"
      },
      "outputs": [],
      "source": [
        "fig = plt.figure(figsize=(12,12))\n",
        "plot('area_mean','fractal_dimension_mean',221)\n",
        "plot('radius_mean','fractal_dimension_mean',222)\n",
        "plot('area_mean','smoothness_se',223)\n",
        "plot('smoothness_se','perimeter_mean',224)"
      ]
    },
    {
      "cell_type": "markdown",
      "metadata": {
        "id": "kWxbOiIOt4_s"
      },
      "source": [
        "Outlier Dropping"
      ]
    },
    {
      "cell_type": "code",
      "execution_count": null,
      "metadata": {
        "id": "TI1Lp0PZtrkd"
      },
      "outputs": [],
      "source": [
        ""
      ]
    },
    {
      "cell_type": "markdown",
      "metadata": {
        "id": "g6mTfvvIuGtq"
      },
      "source": [
        "## Machine Learning"
      ]
    },
    {
      "cell_type": "code",
      "execution_count": null,
      "metadata": {
        "id": "kjiH0wifCUe5"
      },
      "outputs": [],
      "source": [
        "X=data.drop('diagnosis', axis=1).values\n",
        "y=data['diagnosis'].values\n",
        "\n",
        "from sklearn.preprocessing import LabelEncoder\n",
        "le = LabelEncoder()\n",
        "y= le.fit_transform(y)"
      ]
    },
    {
      "cell_type": "code",
      "execution_count": null,
      "metadata": {
        "id": "6ByVP8R9L38B"
      },
      "outputs": [],
      "source": [
        "from sklearn.preprocessing import RobustScaler\n",
        "rs = RobustScaler()\n",
        "X = rs.fit_transform(X)"
      ]
    },
    {
      "cell_type": "code",
      "execution_count": null,
      "metadata": {
        "id": "uM_7li2SYySa"
      },
      "outputs": [],
      "source": [
        "from sklearn.decomposition import PCA\n",
        "pca = PCA()\n",
        "pca= pca.fit(X)"
      ]
    },
    {
      "cell_type": "code",
      "execution_count": null,
      "metadata": {
        "id": "UK-9KN7cb2Qj"
      },
      "outputs": [],
      "source": [
        "#pca.get_covariance()"
      ]
    },
    {
      "cell_type": "code",
      "execution_count": null,
      "metadata": {
        "id": "t56D2nBEVSvo"
      },
      "outputs": [],
      "source": [
        "explained_variance=pca.explained_variance_ratio_\n",
        "explained_variance"
      ]
    },
    {
      "cell_type": "code",
      "execution_count": null,
      "metadata": {
        "id": "iUXZKHNuVXMM"
      },
      "outputs": [],
      "source": [
        "with plt.style.context('dark_background'):\n",
        "    plt.figure(figsize=(6, 4))\n",
        "    pd.DataFrame(pca.explained_variance_ratio_).plot.bar()\n",
        "    plt.ylabel('Explained variance ratio')\n",
        "    plt.xlabel('Principal componentindex')\n",
        "    plt.legend(loc='best')\n",
        "    plt.tight_layout()"
      ]
    },
    {
      "cell_type": "code",
      "execution_count": null,
      "metadata": {
        "id": "mg_v9ztRY7G-"
      },
      "outputs": [],
      "source": [
        "cum_explained_variance= np.cumsum(explained_variance)\n",
        "cum_explained_variance*100"
      ]
    },
    {
      "cell_type": "code",
      "execution_count": null,
      "metadata": {
        "id": "N492lBl3ZEr1"
      },
      "outputs": [],
      "source": [
        "with plt.style.context('dark_background'):\n",
        "    plt.figure(figsize=(6, 4))\n",
        "    pd.DataFrame(np.cumsum(pca.explained_variance_ratio_)).plot()\n",
        "    plt.ylabel('Cumulative Explained variance ratio')\n",
        "    plt.xlabel('Principal component index')\n",
        "    plt.legend(loc='best')\n",
        "    plt.tight_layout()"
      ]
    },
    {
      "cell_type": "code",
      "execution_count": null,
      "metadata": {
        "id": "WABfHIDIvSqv"
      },
      "outputs": [],
      "source": [
        "print('Variance explained by the First principal Component=',np.cumsum(pca.explained_variance_ratio_*100)[0])\n",
        "print('Variance explained by the First 2 principal Component=',np.cumsum(pca.explained_variance_ratio_*100)[1])\n",
        "print('Variance explained by the First 3 principal Component=',np.cumsum(pca.explained_variance_ratio_*100)[2])\n",
        "print('Variance explained by the First 10 principal Component=',np.cumsum(pca.explained_variance_ratio_*100)[9])"
      ]
    },
    {
      "cell_type": "code",
      "execution_count": null,
      "metadata": {
        "id": "BneJrwOjN-OS"
      },
      "outputs": [],
      "source": [
        "from yellowbrick.features import PCA\n",
        "visualizer_2=PCA(scale=True, projection=2, classes=['malignant','benign'],\n",
        "                 random_state=0, colors=['red','blue'])\n",
        "visualizer_2.fit_transform(X,y)\n",
        "visualizer_2.show()"
      ]
    },
    {
      "cell_type": "code",
      "execution_count": null,
      "metadata": {
        "id": "8ktxjnkfPCXy"
      },
      "outputs": [],
      "source": [
        "visualizer_3=PCA(scale=True, projection=3, classes=['malignant','benign'],\n",
        "                 random_state=0, colors=['red','blue'])\n",
        "visualizer_3.fit_transform(X,y)\n",
        "visualizer_3.show()"
      ]
    },
    {
      "cell_type": "code",
      "execution_count": null,
      "metadata": {
        "id": "PC4brQKRVtlK"
      },
      "outputs": [],
      "source": [
        "var= pca.explained_variance_ratio_\n",
        "\n",
        "plt.plot(var)\n",
        "plt.title('Scree Plot')\n",
        "plt.xlabel('Principal Component')\n",
        "plt.ylabel('Eigenvalue')\n",
        "\n",
        "leg = plt.legend(['Eigenvalues from PCA'], loc='best', borderpad=0.3,shadow=False,markerscale=0.4)\n",
        "leg.get_frame().set_alpha(0.4)\n",
        "leg.set_draggable(state=True)\n",
        "plt.show()"
      ]
    },
    {
      "cell_type": "code",
      "execution_count": null,
      "metadata": {
        "id": "4A4UUejVPWEL"
      },
      "outputs": [],
      "source": [
        "from sklearn.decomposition import PCA\n",
        "pca_95=PCA(n_components=0.95, random_state=0)\n",
        "pca_95.fit(X)\n",
        "X_pca_95=pca_95.transform(X)\n",
        "X_pca_95.shape"
      ]
    },
    {
      "cell_type": "code",
      "execution_count": null,
      "metadata": {
        "id": "QbFzi082t9k_"
      },
      "outputs": [],
      "source": [
        "\n",
        "from sklearn.model_selection import train_test_split, cross_val_score\n",
        "from sklearn.model_selection import RepeatedStratifiedKFold"
      ]
    },
    {
      "cell_type": "code",
      "execution_count": null,
      "metadata": {
        "id": "qZjZkg27wUFk"
      },
      "outputs": [],
      "source": [
        "X_train, X_test, y_train, y_test = train_test_split(X, y, test_size=0.3, random_state=0)"
      ]
    },
    {
      "cell_type": "code",
      "execution_count": null,
      "metadata": {
        "id": "rhaDttLUVPd9"
      },
      "outputs": [],
      "source": [
        "X_train.shape, y_train.shape, X_test.shape, y_test.shape"
      ]
    },
    {
      "cell_type": "code",
      "execution_count": null,
      "metadata": {
        "id": "LRUKflBpVpqf"
      },
      "outputs": [],
      "source": [
        ""
      ]
    },
    {
      "cell_type": "markdown",
      "metadata": {
        "id": "WgngxLxZwv1D"
      },
      "source": [
        "### SMOTE- OverSampling Method"
      ]
    },
    {
      "cell_type": "code",
      "execution_count": null,
      "metadata": {
        "id": "iUwASORewvCe"
      },
      "outputs": [],
      "source": [
        "#from imblearn.over_sampling import SMOTE\n",
        "#oversample=SMOTE(sampling_strategy='minority', random_state=0)\n",
        "#X_train,y_train=oversample.fit_resample(X_train,y_train)"
      ]
    },
    {
      "cell_type": "code",
      "execution_count": null,
      "metadata": {
        "id": "YpzgflRjDO-L"
      },
      "outputs": [],
      "source": [
        "from sklearn.metrics import classification_report\n",
        "from sklearn import metrics"
      ]
    },
    {
      "cell_type": "code",
      "execution_count": null,
      "metadata": {
        "id": "SRegzISkCuW3"
      },
      "outputs": [],
      "source": [
        "def accuracy(model):\n",
        "  y_pred=model.predict(X_test)\n",
        "  accuracy=metrics.accuracy_score(y_test,y_pred)\n",
        "  print(\"\\nAcuuracy Of the Model: \",accuracy,\"\\n\\n\")"
      ]
    },
    {
      "cell_type": "code",
      "execution_count": null,
      "metadata": {
        "id": "_uKscTQsSPfj"
      },
      "outputs": [],
      "source": [
        "from sklearn.metrics import classification_report\n"
      ]
    },
    {
      "cell_type": "code",
      "execution_count": null,
      "metadata": {
        "id": "facl-ka6TAh_"
      },
      "outputs": [],
      "source": [
        "from sklearn.linear_model import LogisticRegression \n",
        "lr = LogisticRegression(random_state=0)\n",
        "lr.fit(X_train, y_train)\n",
        "y_test_pred = lr.predict(X_test)\n",
        "print(classification_report(y_test, y_test_pred))\n",
        "accuracy(lr)"
      ]
    },
    {
      "cell_type": "code",
      "execution_count": null,
      "metadata": {
        "id": "ZTTL0e8fSXaY"
      },
      "outputs": [],
      "source": [
        "from pandas.core.common import random_state\n",
        "from sklearn.neighbors import KNeighborsClassifier\n",
        "knn = KNeighborsClassifier(n_neighbors=10, p=1, metric='minkowski')\n",
        "knn.fit(X_train, y_train)\n",
        "y_test_pred = knn.predict(X_test)\n",
        "print(classification_report(y_test, y_test_pred))\n",
        "accuracy(knn)"
      ]
    },
    {
      "cell_type": "code",
      "execution_count": null,
      "metadata": {
        "id": "a3T4UL-Ft9Tp"
      },
      "outputs": [],
      "source": [
        "from sklearn.svm import SVC\n",
        "svm = SVC(kernel='rbf', gamma='auto', random_state=0)\n",
        "svm.fit(X_train, y_train)\n",
        "y_test_pred = svm.predict(X_test)\n",
        "print(classification_report(y_test, y_test_pred))\n",
        "accuracy(svm)\n"
      ]
    },
    {
      "cell_type": "code",
      "execution_count": null,
      "metadata": {
        "id": "ZlTWccUlSLvD"
      },
      "outputs": [],
      "source": [
        ""
      ]
    },
    {
      "cell_type": "code",
      "execution_count": null,
      "metadata": {
        "id": "W2iUotLAv2_3"
      },
      "outputs": [],
      "source": [
        "from sklearn import metrics\n",
        "\n",
        "def confusion_matrix(y_test, model):\n",
        "  "
      ]
    },
    {
      "cell_type": "code",
      "execution_count": null,
      "metadata": {
        "id": "Ss1KUVNP7Q6p"
      },
      "outputs": [],
      "source": [
        ""
      ]
    },
    {
      "cell_type": "markdown",
      "metadata": {
        "id": "EzAqqSwRZ_9K"
      },
      "source": [
        "# Try various Machine Learning Algorithms"
      ]
    },
    {
      "cell_type": "code",
      "execution_count": null,
      "metadata": {
        "id": "loP_NQ_GaP1A"
      },
      "outputs": [],
      "source": [
        "from sklearn.neighbors import KNeighborsClassifier\n",
        "from sklearn.linear_model import LogisticRegression\n",
        "from sklearn.svm import LinearSVC\n",
        "from sklearn.tree import DecisionTreeClassifier\n",
        "from sklearn.model_selection import cross_val_score\n",
        "from sklearn.ensemble import RandomForestClassifier\n",
        "from sklearn.naive_bayes import GaussianNB\n",
        "from sklearn.ensemble import GradientBoostingClassifier\n",
        "from sklearn import svm\n",
        "from sklearn.preprocessing import scale"
      ]
    },
    {
      "cell_type": "code",
      "execution_count": null,
      "metadata": {
        "id": "8oGoqE_nZ_Z1"
      },
      "outputs": [],
      "source": [
        "print (\"Result By Naive Bayes Classifier\\n\\n\")\n",
        "clf_nv = GaussianNB()\n",
        "clf_nv.fit(X_train,y_train)\n",
        "clf_nv.score(X_test,y_test)"
      ]
    },
    {
      "cell_type": "code",
      "execution_count": null,
      "metadata": {
        "id": "WH7h_TQnai3z"
      },
      "outputs": [],
      "source": [
        "print (\"Result By Logistic Regression\\n\\n\")\n",
        "training_accuracy = []\n",
        "test_accuracy = []\n",
        "for i in range(1,30):\n",
        "  clf_lr = LogisticRegression(C=i,solver='liblinear').fit(X_train,y_train)\n",
        "  training_accuracy.append(clf_lr.score(X_train,y_train))\n",
        "  test_accuracy.append(clf_lr.score(X_test,y_test))\n",
        "plt.plot(range(1,30),training_accuracy,label=\"Training\")\n",
        "plt.plot(range(1,30),test_accuracy, label = \"Test\")\n",
        "print(\"\\nMax Accuracy \"+str(max(test_accuracy))+\" At Inverse Regularization = \"+str(test_accuracy.index(max(test_accuracy))+1))\n",
        "max_index = test_accuracy.index(max(test_accuracy))+1\n",
        "plt.plot(max_index,max(test_accuracy), 'ro',label=\"MAX\")\n",
        "plt.ylabel('% accuracy')\n",
        "plt.xlabel('Inverse Regularization')\n",
        "plt.legend()\n",
        "plt.show()\n",
        "\n",
        "print(max(test_accuracy))"
      ]
    },
    {
      "cell_type": "code",
      "execution_count": null,
      "metadata": {
        "id": "TK0OpJ46fbQh"
      },
      "outputs": [],
      "source": [
        "training_accuracy = []\n",
        "test_accuracy = []\n",
        "for n_neighbors in range(1,100):\n",
        "  clf_knn = KNeighborsClassifier(n_neighbors= n_neighbors)\n",
        "  clf_knn.fit(X_train,y_train)\n",
        "  training_accuracy.append(clf_knn.score(X_train,y_train))\n",
        "  test_accuracy.append(clf_knn.score(X_test,y_test))\n",
        "plt.plot(range(1,100),training_accuracy,label=\"Training\")\n",
        "plt.plot(range(1,100),test_accuracy, label = \"Test\")\n",
        "print(\"Max Accuracy \"+str(max(test_accuracy))+\"At Neighbors = \"+str(test_accuracy.index(max(test_accuracy))+1))\n",
        "max_index = test_accuracy.index(max(test_accuracy))+1\n",
        "plt.plot(max_index,max(test_accuracy), 'ro',label=\"MAX\")\n",
        "plt.ylabel('% accuracy')\n",
        "plt.xlabel('Neighbors')\n",
        "plt.legend()\n",
        "plt.show()\n",
        "print(max(test_accuracy))"
      ]
    },
    {
      "cell_type": "code",
      "execution_count": null,
      "metadata": {
        "id": "CSb6kl_wmL-d"
      },
      "outputs": [],
      "source": [
        "print(\"Result By SVM\")\n",
        "training_accuracy = []\n",
        "test_accuracy = []\n",
        "for i in range(1,30):\n",
        " clf_svm = LinearSVC(C=i,dual=True).fit(X_train,y_train)\n",
        " training_accuracy.append(clf_svm.score(X_train,y_train))\n",
        " test_accuracy.append(clf_svm.score(X_test,y_test))\n",
        " \n",
        "plt.plot(range(1,30),training_accuracy,label=\"Training\")\n",
        "plt.plot(range(1,30),test_accuracy, label = \"Test\")\n",
        "print(\"\\n\\nMax Accuracy \"+str(max(test_accuracy))+\" At Inverse Regularization = \"+str(test_accuracy.index(max(test_accuracy))+1))\n",
        "max_index = test_accuracy.index(max(test_accuracy))+1\n",
        "plt.plot(max_index,max(test_accuracy), 'ro',label=\"MAX\")\n",
        "plt.ylabel('% accuracy')\n",
        "plt.xlabel('Inverse Regularization')\n",
        "plt.legend()\n",
        "plt.show()\n",
        "print(max(test_accuracy))"
      ]
    },
    {
      "cell_type": "code",
      "execution_count": null,
      "metadata": {
        "id": "1a5dQXJXn2p1"
      },
      "outputs": [],
      "source": [
        "print(\"Result By Decision Tree Classifier\")\n",
        "training_accuracy = []\n",
        "test_accuracy = []\n",
        "for i in range(1,10):\n",
        " clf_dt = DecisionTreeClassifier(max_depth=i, random_state=0).fit(X_train,y_train)\n",
        " training_accuracy.append(clf_dt.score(X_train,y_train))\n",
        " test_accuracy.append(clf_dt.score(X_test,y_test))\n",
        " \n",
        "plt.plot(range(1,10),training_accuracy,label=\"Training\")\n",
        "plt.plot(range(1,10),test_accuracy, label = \"Test\")\n",
        "print(\"\\n\\nMax Accuracy \"+str(max(test_accuracy))+\" At PrePruning = \"+str(test_accuracy.index(max(test_accuracy))+1))\n",
        "max_index = test_accuracy.index(max(test_accuracy))+1\n",
        "plt.plot(max_index,max(test_accuracy), 'ro',label=\"MAX\")\n",
        "plt.ylabel('% accuracy')\n",
        "plt.xlabel('Prepruning')\n",
        "plt.legend()\n",
        "plt.show()\n",
        "print(max(test_accuracy))"
      ]
    },
    {
      "cell_type": "code",
      "execution_count": null,
      "metadata": {
        "id": "XfG_aPoppSJh"
      },
      "outputs": [],
      "source": [
        "print(\"Result By Randomn Forest Classifier\")\n",
        "training_accuracy = []\n",
        "test_accuracy = []\n",
        "for i in range(1,20):\n",
        " clf_rfc= RandomForestClassifier(n_estimators=i, random_state=0, max_features='auto',min_samples_split=2).fit(X_train,y_train)\n",
        " training_accuracy.append(clf_rfc.score(X_train,y_train))\n",
        " test_accuracy.append(clf_rfc.score(X_test,y_test))\n",
        " \n",
        "plt.plot(range(1,20),training_accuracy,label=\"Training\")\n",
        "plt.plot(range(1,20),test_accuracy, label = \"Test\")\n",
        "print(\"\\n\\nMax Accuracy \"+str(max(test_accuracy))+\" At Estimators = \"+str(test_accuracy.index(max(test_accuracy))+1))\n",
        "max_index = test_accuracy.index(max(test_accuracy))+1\n",
        "plt.plot(max_index,max(test_accuracy), 'ro',label=\"MAX\")\n",
        "plt.ylabel('% accuracy')\n",
        "plt.xlabel('Estimators')\n",
        "plt.legend()\n",
        "plt.show()\n",
        "print(max(test_accuracy))"
      ]
    },
    {
      "cell_type": "code",
      "execution_count": null,
      "metadata": {
        "id": "GHgzkyHpmksx"
      },
      "outputs": [],
      "source": [
        "print(\"Result By Gradient Boost\")\n",
        "training_accuracy = []\n",
        "test_accuracy = []\n",
        "for i in range(1,10):\n",
        " clf_gb = GradientBoostingClassifier( random_state=0, max_depth=i,learning_rate=0.01).fit(X_train,y_train)\n",
        " training_accuracy.append(clf_gb.score(X_train,y_train))\n",
        " test_accuracy.append(clf_gb.score(X_test,y_test))\n",
        " \n",
        "plt.plot(range(1,10),training_accuracy,label=\"Training\")\n",
        "plt.plot(range(1,10),test_accuracy, label = \"Test\")\n",
        "print(\"\\n\\nMax Accuracy \"+str(max(test_accuracy))+\" At Estimators = \"+str(test_accuracy.index(max(test_accuracy))+1))\n",
        "max_index = test_accuracy.index(max(test_accuracy))+1\n",
        "plt.plot(max_index,max(test_accuracy), 'ro',label=\"MAX\")\n",
        "plt.ylabel('% accuracy')\n",
        "plt.xlabel('Prepruining')\n",
        "plt.legend()\n",
        "plt.show()\n",
        "print(max(test_accuracy))"
      ]
    },
    {
      "cell_type": "code",
      "execution_count": null,
      "metadata": {
        "id": "MUKTE5Zin4iG"
      },
      "outputs": [],
      "source": [
        "print(\"Result By Polynomila Kernel\")\n",
        "training_accuracy = []\n",
        "test_accuracy = []\n",
        "for i in range(1,10):\n",
        " clf_pk = svm.SVC(kernel = 'poly',degree=i).fit(X_train,y_train)\n",
        " training_accuracy.append(clf_pk.score(X_train,y_train))\n",
        " test_accuracy.append(clf_pk.score(X_test,y_test))\n",
        " \n",
        "plt.plot(range(1,10),training_accuracy,label=\"Training\")\n",
        "plt.plot(range(1,10),test_accuracy, label = \"Test\")\n",
        "print(\"\\n\\nMax Accuracy \"+str(max(test_accuracy))+\" At Degree = \"+str(test_accuracy.index(max(test_accuracy))+1))\n",
        "max_index = test_accuracy.index(max(test_accuracy))+1\n",
        "plt.plot(max_index,max(test_accuracy), 'ro',label=\"MAX\")\n",
        "plt.ylabel('% accuracy')\n",
        "plt.xlabel('Degree')\n",
        "plt.legend()\n",
        "plt.show()\n",
        "print(max(test_accuracy))"
      ]
    },
    {
      "cell_type": "code",
      "execution_count": null,
      "metadata": {
        "id": "_jwp0fr3ohLA"
      },
      "outputs": [],
      "source": [
        ""
      ]
    }
  ],
  "metadata": {
    "colab": {
      "collapsed_sections": [],
      "name": "DataAnalysis.ipynb",
      "provenance": [],
      "authorship_tag": "ABX9TyOlTpR5rb9d3ASvSWKMSU5o",
      "include_colab_link": true
    },
    "kernelspec": {
      "display_name": "Python 3",
      "name": "python3"
    },
    "language_info": {
      "name": "python"
    }
  },
  "nbformat": 4,
  "nbformat_minor": 0
}